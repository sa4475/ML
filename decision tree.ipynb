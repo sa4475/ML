{
  "nbformat": 4,
  "nbformat_minor": 0,
  "metadata": {
    "colab": {
      "provenance": []
    },
    "kernelspec": {
      "name": "python3",
      "display_name": "Python 3"
    },
    "language_info": {
      "name": "python"
    }
  },
  "cells": [
    {
      "cell_type": "code",
      "execution_count": 2,
      "metadata": {
        "colab": {
          "base_uri": "https://localhost:8080/"
        },
        "id": "xYDGHhlxtU1O",
        "outputId": "3be5af89-df88-46d1-835d-91bf930d0b2a"
      },
      "outputs": [
        {
          "output_type": "stream",
          "name": "stdout",
          "text": [
            "Accuracy: 0.36\n",
            "\n",
            "Confusion Matrix:\n",
            "[[ 83   0   0  17  18   0   0   6   0   9   3]\n",
            " [  0  30  17   0   0  13 116   0   9  21  80]\n",
            " [  0  19  81   0   0  12  39   0   5  36  89]\n",
            " [ 13   0   0  49   3   0   0   8   0   2   3]\n",
            " [ 15   0   0   3  41   0   0   0   0   5   7]\n",
            " [  0  19   7   0   0 136  25   0   0  46  29]\n",
            " [  0 122  39   0   0  14  91   0  36  67 131]\n",
            " [  5   0   0   8   0   0   0  87   0   2   1]\n",
            " [  0  22  15   0   0   1  25   0 168   6 145]\n",
            " [ 10  43  37   4  10  47  61   0   7 204 108]\n",
            " [  2 146  79   7  14  29 133   0 146  96 318]]\n",
            "\n",
            "Classification Report:\n",
            "              precision    recall  f1-score   support\n",
            "\n",
            "           0       0.65      0.61      0.63       136\n",
            "           1       0.07      0.10      0.09       286\n",
            "           2       0.29      0.29      0.29       281\n",
            "           3       0.56      0.63      0.59        78\n",
            "           4       0.48      0.58      0.52        71\n",
            "           5       0.54      0.52      0.53       262\n",
            "           6       0.19      0.18      0.18       500\n",
            "           7       0.86      0.84      0.85       103\n",
            "           8       0.45      0.44      0.45       382\n",
            "           9       0.41      0.38      0.40       531\n",
            "          10       0.35      0.33      0.34       970\n",
            "\n",
            "    accuracy                           0.36      3600\n",
            "   macro avg       0.44      0.45      0.44      3600\n",
            "weighted avg       0.37      0.36      0.36      3600\n",
            "\n"
          ]
        }
      ],
      "source": [
        "import pandas as pd\n",
        "from sklearn.model_selection import train_test_split\n",
        "from sklearn.tree import DecisionTreeClassifier\n",
        "from sklearn.impute import SimpleImputer\n",
        "from sklearn.metrics import accuracy_score, classification_report, confusion_matrix\n",
        "\n",
        "# Load your music dataset\n",
        "# Replace 'train.csv' with the actual file path or URL of your dataset\n",
        "music_data = pd.read_csv('train.csv')\n",
        "\n",
        "# Drop non-numeric columns like 'Artist Name' and 'Track Name' for simplicity\n",
        "music_data_numeric = music_data.drop(['Artist Name', 'Track Name'], axis=1)\n",
        "\n",
        "# Handle categorical variables using Label Encoding\n",
        "from sklearn.preprocessing import LabelEncoder\n",
        "label_encoder = LabelEncoder()\n",
        "music_data_numeric['Class'] = label_encoder.fit_transform(music_data_numeric['Class'])\n",
        "\n",
        "# Split the data into features (X) and target variable (y)\n",
        "X = music_data_numeric.drop('Class', axis=1)\n",
        "y = music_data_numeric['Class']\n",
        "\n",
        "# Split the data into training and testing sets\n",
        "X_train, X_test, y_train, y_test = train_test_split(X, y, test_size=0.2, random_state=42)\n",
        "\n",
        "# Impute missing values\n",
        "imputer = SimpleImputer(strategy='mean')  # You can use other strategies like 'median' or 'most_frequent'\n",
        "X_train_imputed = imputer.fit_transform(X_train)\n",
        "X_test_imputed = imputer.transform(X_test)\n",
        "\n",
        "# Create a decision tree classifier\n",
        "clf = DecisionTreeClassifier(random_state=42)\n",
        "\n",
        "# Train the classifier on the training set\n",
        "clf.fit(X_train_imputed, y_train)\n",
        "\n",
        "# Make predictions on the testing set\n",
        "y_pred = clf.predict(X_test_imputed)\n",
        "\n",
        "# Evaluate the performance of the classifier\n",
        "accuracy = accuracy_score(y_test, y_pred)\n",
        "conf_matrix = confusion_matrix(y_test, y_pred)\n",
        "class_report = classification_report(y_test, y_pred)\n",
        "\n",
        "# Print the results\n",
        "print(f\"Accuracy: {accuracy:.2f}\")\n",
        "print(\"\\nConfusion Matrix:\")\n",
        "print(conf_matrix)\n",
        "print(\"\\nClassification Report:\")\n",
        "print(class_report)\n"
      ]
    }
  ]
}