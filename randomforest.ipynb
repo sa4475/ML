{
  "nbformat": 4,
  "nbformat_minor": 0,
  "metadata": {
    "colab": {
      "provenance": []
    },
    "kernelspec": {
      "name": "python3",
      "display_name": "Python 3"
    },
    "language_info": {
      "name": "python"
    }
  },
  "cells": [
    {
      "cell_type": "code",
      "execution_count": 3,
      "metadata": {
        "colab": {
          "base_uri": "https://localhost:8080/"
        },
        "id": "xYDGHhlxtU1O",
        "outputId": "c1065e0f-81d4-4c0a-eb03-6ccaf60720a7"
      },
      "outputs": [
        {
          "output_type": "stream",
          "name": "stdout",
          "text": [
            "Accuracy: 0.50\n",
            "\n",
            "Confusion Matrix:\n",
            "[[108   0   0   8   9   0   0   6   0   4   1]\n",
            " [  0  10  10   0   0   8 102   0   4  18 134]\n",
            " [  0   0 113   0   0   4  26   0   1  24 113]\n",
            " [  9   0   0  63   2   0   0   2   0   2   0]\n",
            " [ 15   0   0   0  53   0   0   0   0   2   1]\n",
            " [  0   1   5   0   0 187   5   0   0  44  20]\n",
            " [  0  70  14   0   0  20 126   0   9  60 201]\n",
            " [  6   0   0   2   0   0   0  95   0   0   0]\n",
            " [  0   0   0   0   0   0  11   0 211   0 160]\n",
            " [ 10   7  12   1   5  43  49   0   2 270 132]\n",
            " [  3  51  44   3   8  13  93   0  94  81 580]]\n",
            "\n",
            "Classification Report:\n",
            "              precision    recall  f1-score   support\n",
            "\n",
            "           0       0.72      0.79      0.75       136\n",
            "           1       0.07      0.03      0.05       286\n",
            "           2       0.57      0.40      0.47       281\n",
            "           3       0.82      0.81      0.81        78\n",
            "           4       0.69      0.75      0.72        71\n",
            "           5       0.68      0.71      0.70       262\n",
            "           6       0.31      0.25      0.28       500\n",
            "           7       0.92      0.92      0.92       103\n",
            "           8       0.66      0.55      0.60       382\n",
            "           9       0.53      0.51      0.52       531\n",
            "          10       0.43      0.60      0.50       970\n",
            "\n",
            "    accuracy                           0.50      3600\n",
            "   macro avg       0.58      0.58      0.57      3600\n",
            "weighted avg       0.49      0.50      0.49      3600\n",
            "\n"
          ]
        }
      ],
      "source": [
        "import pandas as pd\n",
        "from sklearn.model_selection import train_test_split\n",
        "from sklearn.ensemble import RandomForestClassifier\n",
        "from sklearn.impute import SimpleImputer\n",
        "from sklearn.metrics import accuracy_score, classification_report, confusion_matrix\n",
        "\n",
        "# Load your music dataset\n",
        "# Replace 'train.csv' with the actual file path or URL of your dataset\n",
        "music_data = pd.read_csv('train.csv')\n",
        "\n",
        "# Drop non-numeric columns like 'Artist Name' and 'Track Name' for simplicity\n",
        "music_data_numeric = music_data.drop(['Artist Name', 'Track Name'], axis=1)\n",
        "\n",
        "# Handle categorical variables using Label Encoding\n",
        "from sklearn.preprocessing import LabelEncoder\n",
        "label_encoder = LabelEncoder()\n",
        "music_data_numeric['Class'] = label_encoder.fit_transform(music_data_numeric['Class'])\n",
        "\n",
        "# Split the data into features (X) and target variable (y)\n",
        "X = music_data_numeric.drop('Class', axis=1)\n",
        "y = music_data_numeric['Class']\n",
        "\n",
        "# Split the data into training and testing sets\n",
        "X_train, X_test, y_train, y_test = train_test_split(X, y, test_size=0.2, random_state=42)\n",
        "\n",
        "# Impute missing values\n",
        "imputer = SimpleImputer(strategy='mean')  # You can use other strategies like 'median' or 'most_frequent'\n",
        "X_train_imputed = imputer.fit_transform(X_train)\n",
        "X_test_imputed = imputer.transform(X_test)\n",
        "\n",
        "# Create a Random Forest classifier\n",
        "rf_classifier = RandomForestClassifier(n_estimators=100, random_state=42)\n",
        "\n",
        "# Train the classifier on the training set\n",
        "rf_classifier.fit(X_train_imputed, y_train)\n",
        "\n",
        "# Make predictions on the testing set\n",
        "y_pred = rf_classifier.predict(X_test_imputed)\n",
        "\n",
        "# Evaluate the performance of the classifier\n",
        "accuracy = accuracy_score(y_test, y_pred)\n",
        "conf_matrix = confusion_matrix(y_test, y_pred)\n",
        "class_report = classification_report(y_test, y_pred)\n",
        "\n",
        "# Print the results\n",
        "print(f\"Accuracy: {accuracy:.2f}\")\n",
        "print(\"\\nConfusion Matrix:\")\n",
        "print(conf_matrix)\n",
        "print(\"\\nClassification Report:\")\n",
        "print(class_report)\n"
      ]
    }
  ]
}